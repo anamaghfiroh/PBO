{
 "cells": [
  {
   "cell_type": "markdown",
   "metadata": {},
   "source": [
    "Method Overloading adalah sebuah kemampuan yang membolehkan sebuah class mempunyai 2 atau lebih method dengan nama yang sama, yang membedakan adalah parameternya.\n",
    "\n",
    "Pada method overloading perbedaan parameter mencakup :\n",
    "\n",
    "Jumlah parameter\n",
    "Tipe data dari parameter\n",
    "Urutan dari tipe data parameter\n",
    "Method Overloading juga dikenal dengan sebutan Static Polymorphism\n",
    "\n",
    "Method overloading , memiliki penugasan lebih dari satu fungsi dan operasi yang di gunakan bermacam-macam.\n",
    "\n",
    "operator overloading\n",
    "operator yang punya bentuk untuk menambhkan atau menggabungkan \n",
    "beberapa pebuatan fungsi untuk sebuah operatorsemisalnya operator + tidak hanay digunakan pada operasi type data integer\n",
    "\n",
    "\n",
    "ketika suatu class child yang turunan dari class parent. mempunyai beberapa method dengan nama yang sama dengan yang di punya si parent . tetapi dengan implementasi yang berbeda.\n",
    "\n",
    "overiding dan overloading \n",
    "namanya sama\n",
    "overloading \n",
    "operator untuk mengatur fungsi pada operator lain\n",
    "penggunaan fungsi untuk suatu operator misal operator + bisa digunakan untuk fungsi yang lain\n",
    "\n",
    "magic method "
   ]
  },
  {
   "cell_type": "code",
   "execution_count": 1,
   "metadata": {},
   "outputs": [
    {
     "name": "stdout",
     "output_type": "stream",
     "text": [
      "6/8\n"
     ]
    }
   ],
   "source": [
    "class Fraction:\n",
    "\n",
    "    def __init__(self,top,bottom):\n",
    "\n",
    "        self.num = top\n",
    "        self.den = bottom\n",
    "    #def show(self):\n",
    "    #    print(self.num,\"/\",self.den)\n",
    "    def __str__(self):\n",
    "        return str(self.num)+\"/\"+str(self.den)\n",
    "\n",
    "    def __add__(self,otherfraction):\n",
    "\n",
    "        newnum = self.num*otherfraction.den + self.den*otherfraction.num\n",
    "        newden = self.den * otherfraction.den\n",
    "        return Fraction(newnum,newden)\n",
    "f1=Fraction(1,4)\n",
    "f2=Fraction(1,2)\n",
    "print(f1+f2)\n"
   ]
  },
  {
   "cell_type": "code",
   "execution_count": null,
   "metadata": {},
   "outputs": [],
   "source": []
  }
 ],
 "metadata": {
  "kernelspec": {
   "display_name": "Python 3",
   "language": "python",
   "name": "python3"
  },
  "language_info": {
   "codemirror_mode": {
    "name": "ipython",
    "version": 3
   },
   "file_extension": ".py",
   "mimetype": "text/x-python",
   "name": "python",
   "nbconvert_exporter": "python",
   "pygments_lexer": "ipython3",
   "version": "3.6.5"
  }
 },
 "nbformat": 4,
 "nbformat_minor": 2
}
