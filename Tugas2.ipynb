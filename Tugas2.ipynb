{
 "cells": [
  {
   "cell_type": "code",
   "execution_count": 27,
   "metadata": {},
   "outputs": [
    {
     "name": "stdout",
     "output_type": "stream",
     "text": [
      "No. Pegawai : 170411100087 Nama Pegawai : Ana Maghfiroh Umur : 19\n",
      "\n"
     ]
    }
   ],
   "source": [
    "import datetime\n",
    "now = datetime.datetime.now()\n",
    "\n",
    "class pegawai :\n",
    "    def __init__ (self,No,nm,tgllahir) :\n",
    "        self.Nomer=No\n",
    "        self.Nama_Pegawai=nm\n",
    "        self.Tanggal_Lahir=tgllahir\n",
    "    \n",
    "    def tampilkan(self):\n",
    "        lahir = self.Tanggal_Lahir\n",
    "        tahunLahir = int(lahir[-4:])\n",
    "        tahunSekarang = now.year\n",
    "        umur = tahunSekarang - tahunLahir\n",
    "        print(\"No. Pegawai :\", self.Nomer, \"Nama Pegawai :\", self.Nama_Pegawai, \"Umur :\", umur)\n",
    "        \n",
    "        \n",
    "\n",
    "fera=pegawai(\"170411100087\", \"Ana Maghfiroh\", \"12 maret 1999\")\n",
    "fera.tampilkan()\n",
    "fera.umur()\n"
   ]
  }
 ],
 "metadata": {
  "kernelspec": {
   "display_name": "Python 3",
   "language": "python",
   "name": "python3"
  },
  "language_info": {
   "codemirror_mode": {
    "name": "ipython",
    "version": 3
   },
   "file_extension": ".py",
   "mimetype": "text/x-python",
   "name": "python",
   "nbconvert_exporter": "python",
   "pygments_lexer": "ipython3",
   "version": "3.6.5"
  }
 },
 "nbformat": 4,
 "nbformat_minor": 2
}
