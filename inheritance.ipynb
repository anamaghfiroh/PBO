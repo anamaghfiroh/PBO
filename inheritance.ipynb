{
 "cells": [
  {
   "cell_type": "markdown",
   "metadata": {},
   "source": [
    "Inheritance adalah dimana suatu entitas/obyek dapat mempunyai entitas/obyek turunan. Dengan konsep inheritance, sebuah class dapat mempunyai class turunan.\n",
    "\n",
    "Seperti halnya manusia pada umumnya terdapat orang tua dan anak pada PBO juga dikenal parent class atau base class dan subclass atau child class.Dimana subclass atau childclass mewarisi semua data yang ada di parent class atau base class atau dapat disimpulkan jika subclass atau childclass adalah perluasan dari parent class atau base class.\n",
    "\n",
    "kelas anak yang mewarisi kelas parents dan method dari parents dan variabelnya diwarisi kepada kelas anak\n",
    "\n",
    "Tidak semua property dan method dari class induk akan diturunkan. Property dan method dengan hak akses private, tidak akan diturunkan kepada class anak. Hanya property dan method dengan hak akses protected dan public saja yang bisa diakses dari class anak.\n"
   ]
  },
  {
   "cell_type": "code",
   "execution_count": 2,
   "metadata": {},
   "outputs": [
    {
     "name": "stdout",
     "output_type": "stream",
     "text": [
      "Jari-jari :  4\n",
      "Tinggi :  5\n",
      "Luas Permukaan Tabung :  226.08\n"
     ]
    }
   ],
   "source": [
    "class Lingkaran () :\n",
    "    def __init__ (self,jari) :\n",
    "        self.jari = jari\n",
    "    def Tampilkan (self) :\n",
    "        print (\"Jari-jari : \",self.jari)\n",
    "    def Luas (self) :\n",
    "        print (\"Luas Lingkaran :     \",3.14*self.jari*self.jari)\n",
    "    def Keliling (self) :\n",
    "        print (\"Keliling Lingkaran : \",2*3.14*self.jari)\n",
    "class Tabung (Lingkaran) :\n",
    "    def __init__(self,jari,tinggi) :\n",
    "        Lingkaran.__init__(self,jari)\n",
    "        self.tinggi = tinggi\n",
    "    def Tampilkan (self) :\n",
    "        Lingkaran.Tampilkan(self)\n",
    "        print (\"Tinggi : \",self.tinggi)\n",
    "    def LP (self) :\n",
    "        print (\"Luas Permukaan Tabung : \",2*3.14*self.jari*(self.tinggi+self.jari))\n",
    "a = Tabung (4,5)\n",
    "a.Tampilkan ()\n",
    "a.LP ()\n"
   ]
  },
  {
   "cell_type": "code",
   "execution_count": 3,
   "metadata": {},
   "outputs": [
    {
     "name": "stdout",
     "output_type": "stream",
     "text": [
      "Pecahan :  1000 / 110\n",
      "Bentuk Paling Sederhana :  200 / 22\n",
      "Bentuk Paling Sederhana :  500 / 55\n",
      "Pecahan :  1000 / 110\n",
      "Bentuk Paling Sederhana :  200 / 22\n",
      "Bentuk Paling Sederhana :  500 / 55\n"
     ]
    }
   ],
   "source": [
    "class Pecahan () :\n",
    "    def __init__ (self,pembilang,penyebut) :\n",
    "        self.pembilang = pembilang\n",
    "        self.penyebut  = penyebut\n",
    "    def Tampilkan (self) :\n",
    "        print (\"Pecahan : \",self.pembilang,\"/\",self.penyebut)\n",
    "    def Sederhana (self) :\n",
    "        for i in range (9,1,-1) :\n",
    "            if self.pembilang%i == 0 and self.penyebut%i == 0 :\n",
    "                print (\"Bentuk Paling Sederhana : \", self.pembilang//i,\"/\",self.penyebut//i)\n",
    "        if self.pembilang%i != 0 or self.penyebut%i != 0 :\n",
    "            print (\"Bentuk Paling Sederhana : \",self.pembilang,\"/\",self.penyebut)\n",
    "b = Pecahan (1000,110)\n",
    "b.Tampilkan ()\n",
    "b.Sederhana ()\n",
    "       \n",
    "#Soal No 2\n",
    "class Pecahan () :\n",
    "    def __init__ (self,pembilang,penyebut) :\n",
    "        self.pembilang = pembilang\n",
    "        self.penyebut  = penyebut\n",
    "    def Tampilkan (self) :\n",
    "        print (\"Pecahan : \",self.pembilang,\"/\",self.penyebut)\n",
    "    def Sederhana (self) :\n",
    "        for i in range (9,1,-1) :\n",
    "            if self.pembilang%i == 0 and self.penyebut%i == 0 :\n",
    "                print (\"Bentuk Paling Sederhana : \", self.pembilang//i,\"/\",self.penyebut//i)\n",
    "        if self.pembilang%i != 0 or self.penyebut%i != 0 :\n",
    "            print (\"Bentuk Paling Sederhana : \",self.pembilang,\"/\",self.penyebut)\n",
    "b = Pecahan (1000,110)\n",
    "b.Tampilkan ()\n",
    "b.Sederhana ()\n"
   ]
  },
  {
   "cell_type": "code",
   "execution_count": 5,
   "metadata": {},
   "outputs": [
    {
     "name": "stdout",
     "output_type": "stream",
     "text": [
      "Nama      :  Ana Maghfiroh\n",
      "Id        :  170411100087\n"
     ]
    }
   ],
   "source": [
    "class Pegawai () :\n",
    "    def __init__ (self,nama,idp) :\n",
    "        self.nama = nama\n",
    "        self.idp = idp\n",
    "    def Tampilkan (self) :\n",
    "        print (\"Nama      : \",self.nama)\n",
    "        print (\"Id        : \",self.idp)\n",
    "class Toko () :\n",
    "    def __init__ (self,namatoko,lok) :\n",
    "        self.namatoko = namatoko\n",
    "        self.lok = lok\n",
    "    def Tampilkan (self) :\n",
    "        print (\"Nama Toko : \",self.namatoko)\n",
    "        print (\"Lokasi    : \",self.lok)\n",
    "class Penempatan (Pegawai,Toko) :\n",
    "    def __init__ (self,nama,idp,namatoko,lok) :\n",
    "        Pegawai.__init__(self,nama,idp)\n",
    "        Toko.__init__(self,namatoko,lok)\n",
    "    \"\"\"def Tampilkan (self) :\n",
    "        Pegawai.Tampilkan(self)\n",
    "        Toko.Tampilkan(self)\"\"\"#\n",
    "c = Penempatan (\"Ana Maghfiroh\",\"170411100087\",\"PT. Elektronik\",\"Jl. Ares Tengah Talang No. 4\")\n",
    "c.Tampilkan ()\n"
   ]
  },
  {
   "cell_type": "code",
   "execution_count": null,
   "metadata": {},
   "outputs": [],
   "source": [
    "class Mahasiswa () :\n",
    "    def __init__ (self) :\n",
    "        self.nama = input(\"Masukkan Nama : \")\n",
    "        self.nim = input (\"Masukkan NIM :\")\n",
    "    def Tampilkan (self) :\n",
    "        print (\"Nama    : \",self.nama)\n",
    "        print (\"NIM     : \",self.nim)\n",
    "\n",
    "class Matakuliah () :\n",
    "    def __init__ (self) :\n",
    "        self.kode1   = input(\"Kode 1   : \")\n",
    "        self.kode2   = input(\"Kode 2   : \")\n",
    "        self.kode3   = input(\"Kode 3   : \")\n",
    "        self.kode4   = input(\"Kode 4   : \")\n",
    "        self.kode5   = input(\"Kode 5   : \")\n",
    "        self.matkul1 = input(\"Matkul 1 : \")\n",
    "        self.matkul2 = input(\"Matkul 2 : \")\n",
    "        self.matkul3 = input(\"Matkul 3 : \")\n",
    "        self.matkul4 = input(\"Matkul 4 : \")\n",
    "        self.matkul5 = input(\"Matkul 5 : \")\n",
    "    def Tampilkan (self) :\n",
    "        print (\"Kode   : \",self.kode1,\"---->>\",\"Mata Kuliah  : \",self.matkul1)\n",
    "        print (\"Kode   : \",self.kode2,\"---->>\",\"Mata Kuliah  : \",self.matkul2)\n",
    "        print (\"Kode   : \",self.kode3,\"---->>\",\"Mata Kuliah  : \",self.matkul3)\n",
    "        print (\"Kode   : \",self.kode4,\"---->>\",\"Mata Kuliah  : \",self.matkul4)\n",
    "        print (\"Kode   : \",self.kode5,\"---->>\",\"Mata Kuliah  : \",self.matkul5)\n",
    "        \n",
    "class Pengambilan (Mahasiswa,Matakuliah) :\n",
    "    def __init__ (self) :\n",
    "        Mahasiswa.__init__(self)\n",
    "        Matakuliah.__init__(self)\n",
    "        self.nilai1 = int (input (\"Nilai1 : \"))\n",
    "        self.nilai2 = int (input (\"Nilai2 : \"))\n",
    "        self.nilai3 = int (input (\"Nilai3 : \"))\n",
    "        self.nilai4 = int(input (\"Nilai4 : \"))\n",
    "        self.nilai5 = int(input (\"Nilai5 : \"))\n",
    "        \n",
    "    def Tampilkan (self) :\n",
    "        Mahasiswa.Tampilkan(self)\n",
    "        Matakuliah.Tampilkan(self)\n",
    "        print (\"Nilai \",self.matkul1,\" : \",self.nilai1)\n",
    "        print (\"Nilai \",self.matkul2,\" : \",self.nilai2)\n",
    "        print (\"Nilai \",self.matkul3,\" : \",self.nilai3)\n",
    "        print (\"Nilai \",self.matkul4,\" : \",self.nilai4)\n",
    "        print (\"Nilai \",self.matkul5,\" : \",self.nilai5)\n",
    "        print (\"Nilai IPS : \",(self.nilai1+self.nilai2+self.nilai3+self.nilai4+self.nilai5)//5)\n",
    "d = Pengambilan ()\n",
    "d.Tampilkan ()\n"
   ]
  },
  {
   "cell_type": "code",
   "execution_count": null,
   "metadata": {},
   "outputs": [],
   "source": [
    "class user :\n",
    "    def __init__ (self,name):\n",
    "        self.name=name\n",
    "    def printName(self):\n",
    "        print(\"Nama =\" + self.name)\n",
    "#baca super (Inheritanc- superclass)\n",
    "class Programmer(user):\n",
    "    def __init__ (self,lastname) :\n",
    "        self.lastname=lastname\n",
    "    def printlastname(self):\n",
    "        print(\"Nama :\" + self.lastname)\n",
    "    def doPython(self):\n",
    "        print(\"programming python\")\n",
    "\n",
    "class Programmer1(user) :\n",
    "    pass\n",
    "\n",
    "brian = user(\"brian\")\n",
    "brian.printName()\n",
    "              \n",
    "diana1=Programmer1(\"diana\")\n",
    "diana1.printName()\n",
    "\n",
    "diana=Programmer(\"diana\")\n",
    "diana.printlastname()\n",
    "diana.doPython()\n",
    "              \n",
    "              \n",
    "                  \n"
   ]
  },
  {
   "cell_type": "code",
   "execution_count": 1,
   "metadata": {},
   "outputs": [
    {
     "name": "stdout",
     "output_type": "stream",
     "text": [
      "Terry fish\n"
     ]
    },
    {
     "ename": "AttributeError",
     "evalue": "'Trout' object has no attribute 'skeleton'",
     "output_type": "error",
     "traceback": [
      "\u001b[1;31m---------------------------------------------------------------------------\u001b[0m",
      "\u001b[1;31mAttributeError\u001b[0m                            Traceback (most recent call last)",
      "\u001b[1;32m<ipython-input-1-af037d44d755>\u001b[0m in \u001b[0;36m<module>\u001b[1;34m()\u001b[0m\n\u001b[0;32m     20\u001b[0m \u001b[0mterry\u001b[0m \u001b[1;33m=\u001b[0m \u001b[0mTrout\u001b[0m \u001b[1;33m(\u001b[0m\u001b[1;34m\"Terry\"\u001b[0m\u001b[1;33m)\u001b[0m\u001b[1;33m\u001b[0m\u001b[0m\n\u001b[0;32m     21\u001b[0m \u001b[0mprint\u001b[0m\u001b[1;33m(\u001b[0m\u001b[0mterry\u001b[0m\u001b[1;33m.\u001b[0m\u001b[0mfirst_name\u001b[0m\u001b[1;33m+\u001b[0m\u001b[1;34m\" \"\u001b[0m\u001b[1;33m+\u001b[0m \u001b[0mterry\u001b[0m\u001b[1;33m.\u001b[0m\u001b[0mlast_name\u001b[0m\u001b[1;33m)\u001b[0m\u001b[1;33m\u001b[0m\u001b[0m\n\u001b[1;32m---> 22\u001b[1;33m \u001b[0mprint\u001b[0m\u001b[1;33m(\u001b[0m\u001b[0mterry\u001b[0m\u001b[1;33m.\u001b[0m\u001b[0mskeleton\u001b[0m\u001b[1;33m)\u001b[0m\u001b[1;33m\u001b[0m\u001b[0m\n\u001b[0m\u001b[0;32m     23\u001b[0m \u001b[0mprint\u001b[0m\u001b[1;33m(\u001b[0m\u001b[0mterry\u001b[0m\u001b[1;33m.\u001b[0m\u001b[0meyelids\u001b[0m\u001b[1;33m)\u001b[0m\u001b[1;33m\u001b[0m\u001b[0m\n\u001b[0;32m     24\u001b[0m \u001b[0mterry\u001b[0m\u001b[1;33m.\u001b[0m\u001b[0mswim\u001b[0m\u001b[1;33m(\u001b[0m\u001b[1;33m)\u001b[0m\u001b[1;33m\u001b[0m\u001b[0m\n",
      "\u001b[1;31mAttributeError\u001b[0m: 'Trout' object has no attribute 'skeleton'"
     ]
    }
   ],
   "source": [
    "class fish:\n",
    "    def __init__ (self, first_name, last_name=\"fish\", skeleton=\"bone\", eyelids=False):\n",
    "        self.first_name=first_name\n",
    "        self.last_name=last_name\n",
    "        self.eyelids=eyelids\n",
    "        \n",
    "    def swim(self):\n",
    "        print (\"the is swimming\")\n",
    "        \n",
    "    def swim_backwards(self):\n",
    "        print(\"the fish can swim backwards\")\n",
    "        \n",
    "class Trout(fish):\n",
    "    pass\n",
    "\n",
    "class clownfish(fish):\n",
    "    def live_with_anemone(self):\n",
    "        print(\"the clownfish is coexisting with sea anemone.\")\n",
    "        \n",
    "terry = Trout (\"Terry\")\n",
    "print(terry.first_name+\" \"+ terry.last_name)\n",
    "print(terry.skeleton)\n",
    "print(terry.eyelids)\n",
    "terry.swim()\n",
    "terry.swim_backwards()\n",
    "\n",
    "terry1=Trout(\"TerryS\", \"smallfish\", \"no bone\", True)\n",
    "print(Terry1.first_name + \" \")\n",
    "print(Terry1.skeleton)\n",
    "print(Terry.eyelids)\n",
    "\n",
    "cassey=clownfish(\"cassey\")\n",
    "cassey.swim()"
   ]
  },
  {
   "cell_type": "code",
   "execution_count": null,
   "metadata": {},
   "outputs": [],
   "source": []
  }
 ],
 "metadata": {
  "kernelspec": {
   "display_name": "Python 3",
   "language": "python",
   "name": "python3"
  },
  "language_info": {
   "codemirror_mode": {
    "name": "ipython",
    "version": 3
   },
   "file_extension": ".py",
   "mimetype": "text/x-python",
   "name": "python",
   "nbconvert_exporter": "python",
   "pygments_lexer": "ipython3",
   "version": "3.6.5"
  }
 },
 "nbformat": 4,
 "nbformat_minor": 2
}
