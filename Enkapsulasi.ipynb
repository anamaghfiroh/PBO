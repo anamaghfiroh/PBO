{
 "cells": [
  {
   "cell_type": "markdown",
   "metadata": {},
   "source": [
    "encapsulation : pembungkus, encapsulation pada object oriented maksudnya adalah membungkus class dan menjaga apa apa saja yang ada didalam class tersebut, baik method ataupun atribut, agar tidak dapat di akses oleh class lainnya.\n",
    "\n",
    "private method dia hanya bisa diakses di kelas mereka sendiri dimulai dengan double underline\n",
    "\n",
    "bda dengan private method, public variable itu dapat diakses dimana saja\n",
    "dan juga ada private variable dimana dia hanya bisa diakses di kelasnya sendiri dengan method yang sudah terdefinisi.\n"
   ]
  },
  {
   "cell_type": "code",
   "execution_count": 1,
   "metadata": {},
   "outputs": [
    {
     "name": "stdout",
     "output_type": "stream",
     "text": [
      "ana maghfiroh\n",
      "fera\n",
      "ana maghfiroh\n"
     ]
    }
   ],
   "source": [
    "class user :\n",
    "    def __init__ (self):\n",
    "        self.__namalengkap()\n",
    "    def printNama(self):\n",
    "        print(\"fera\")\n",
    "    def __namalengkap(self):\n",
    "        print(\"ana maghfiroh\")\n",
    "\n",
    "fera=user()\n",
    "fera.printNama()\n",
    "fera._user__namalengkap()\n",
    "              \n",
    "                  "
   ]
  },
  {
   "cell_type": "code",
   "execution_count": null,
   "metadata": {},
   "outputs": [],
   "source": [
    "class user :\n",
    "    __name =\"\"\n",
    "    \n",
    "    def __init__(self):\n",
    "        self.__name=\"fera\"\n",
    "    def tampilkan(self):\n",
    "        print(\"nama saya \"+str(self.__name))\n",
    "    def setname(self,nama):\n",
    "        self.__name=\"ria\"\n",
    "f=user()\n",
    "f.tampilkan()\n",
    "f.setname(\"ria\")\n",
    "f.__name=\"fera\"\n",
    "f.tampilkan()\n"
   ]
  }
 ],
 "metadata": {
  "kernelspec": {
   "display_name": "Python 3",
   "language": "python",
   "name": "python3"
  },
  "language_info": {
   "codemirror_mode": {
    "name": "ipython",
    "version": 3
   },
   "file_extension": ".py",
   "mimetype": "text/x-python",
   "name": "python",
   "nbconvert_exporter": "python",
   "pygments_lexer": "ipython3",
   "version": "3.6.5"
  }
 },
 "nbformat": 4,
 "nbformat_minor": 2
}
